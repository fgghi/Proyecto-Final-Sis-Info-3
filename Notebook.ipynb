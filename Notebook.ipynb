{
 "cells": [
  {
   "cell_type": "code",
   "execution_count": 54,
   "id": "bd37f925-9934-4d59-a6b6-08f95cee7d9b",
   "metadata": {},
   "outputs": [
    {
     "name": "stdout",
     "output_type": "stream",
     "text": [
      "Requirement already satisfied: requests in c:\\users\\comad\\anaconda3\\lib\\site-packages (2.31.0)\n",
      "Requirement already satisfied: beautifulsoup4 in c:\\users\\comad\\anaconda3\\lib\\site-packages (4.12.2)\n",
      "Requirement already satisfied: charset-normalizer<4,>=2 in c:\\users\\comad\\anaconda3\\lib\\site-packages (from requests) (3.3.2)\n",
      "Requirement already satisfied: idna<4,>=2.5 in c:\\users\\comad\\anaconda3\\lib\\site-packages (from requests) (3.6)\n",
      "Requirement already satisfied: urllib3<3,>=1.21.1 in c:\\users\\comad\\anaconda3\\lib\\site-packages (from requests) (1.26.18)\n",
      "Requirement already satisfied: certifi>=2017.4.17 in c:\\users\\comad\\anaconda3\\lib\\site-packages (from requests) (2023.11.17)\n",
      "Requirement already satisfied: soupsieve>1.2 in c:\\users\\comad\\anaconda3\\lib\\site-packages (from beautifulsoup4) (2.5)\n",
      "Note: you may need to restart the kernel to use updated packages.\n"
     ]
    }
   ],
   "source": [
    "pip install requests beautifulsoup4"
   ]
  },
  {
   "cell_type": "code",
   "execution_count": 5,
   "id": "35d1c8a8",
   "metadata": {},
   "outputs": [
    {
     "name": "stdout",
     "output_type": "stream",
     "text": [
      "Collecting geopy\n",
      "  Downloading geopy-2.4.1-py3-none-any.whl (125 kB)\n",
      "                                              0.0/125.4 kB ? eta -:--:--\n",
      "     ---------                               30.7/125.4 kB 1.4 MB/s eta 0:00:01\n",
      "     ---------------------------           92.2/125.4 kB 871.5 kB/s eta 0:00:01\n",
      "     -------------------------------------- 125.4/125.4 kB 1.1 MB/s eta 0:00:00\n",
      "Collecting geographiclib<3,>=1.52 (from geopy)\n",
      "  Downloading geographiclib-2.0-py3-none-any.whl (40 kB)\n",
      "                                              0.0/40.3 kB ? eta -:--:--\n",
      "     ---------------------------------------- 40.3/40.3 kB 1.9 MB/s eta 0:00:00\n",
      "Installing collected packages: geographiclib, geopy\n",
      "Successfully installed geographiclib-2.0 geopy-2.4.1\n",
      "Note: you may need to restart the kernel to use updated packages.\n"
     ]
    }
   ],
   "source": [
    "pip install geopy"
   ]
  },
  {
   "cell_type": "code",
   "execution_count": 14,
   "id": "731500d5",
   "metadata": {},
   "outputs": [],
   "source": [
    "import requests\n",
    "from bs4 import BeautifulSoup\n",
    "import re\n",
    "import json\n",
    "from geopy.geocoders import Nominatim\n",
    "\n",
    "\n",
    "def obtener_population(p_tag):\n",
    "    population_text = p_tag.get_text()\n",
    "    population_match_2023 = re.search(r\"Población 2023:\\s*([\\d,]+)\", population_text)\n",
    "    if population_match_2023:\n",
    "        population = population_match_2023.group(1).replace(\",\", \"\")\n",
    "        return population\n",
    "    \n",
    "    population_match_2022 = re.search(r\"Población 2022:\\s*([\\d,]+)\", population_text)\n",
    "    if population_match_2022:\n",
    "        population = population_match_2022.group(1).replace(\",\", \"\")\n",
    "        return population\n",
    "    \n",
    "    return None\n",
    "\n",
    "def obtener_coordenadas(ciudad, pais):\n",
    "    geolocalizador = Nominatim(user_agent=\"myGeocoder\")\n",
    "    direccion = f\"{ciudad}, {pais}\"\n",
    "    ubicacion = geolocalizador.geocode(direccion)\n",
    "    \n",
    "    if ubicacion:\n",
    "        return ubicacion.latitude, ubicacion.longitude\n",
    "    else:\n",
    "        return None, None\n",
    "\n",
    "def extraer_datos_ciudades(soup):\n",
    "    ciudades = {\"type\": \"FeatureCollection\", \"features\": []}\n",
    "\n",
    "    for ciudad_element in soup.find_all('h3'):\n",
    "        nombre_ciudad_match = re.search(r'<a.*?>(.*?)<\\/a>', str(ciudad_element))\n",
    "        nombre_ciudad = nombre_ciudad_match.group(1) if nombre_ciudad_match else \"No encontrado\"\n",
    "\n",
    "        pais_match = re.search(r'<a.*?>(.*?)<\\/a>,\\s(.*?)\\s\\(', str(ciudad_element))\n",
    "        pais = pais_match.group(2) if pais_match else \"No encontrado\"\n",
    "\n",
    "        poblacion_element = ciudad_element.find_next('p')\n",
    "        poblacion_2023 = obtener_population(poblacion_element)  # Utilizando la nueva función\n",
    "\n",
    "        if nombre_ciudad != \"No encontrado\" and pais != \"No encontrado\" and poblacion_2023:\n",
    "            latitud, longitud = obtener_coordenadas(nombre_ciudad, pais)\n",
    "            ciudad = {\n",
    "                \"type\": \"Feature\",\n",
    "                \"geometry\": {\n",
    "                    \"type\": \"Point\",\n",
    "                    \"coordinates\": [longitud, latitud]\n",
    "                },\n",
    "                \"properties\": {\n",
    "                    \"Nombre\": nombre_ciudad,\n",
    "                    \"País\": pais,\n",
    "                    \"Población 2023\": poblacion_2023\n",
    "                }\n",
    "            }\n",
    "            ciudades[\"features\"].append(ciudad)\n",
    "    \n",
    "    return ciudades\n",
    "\n",
    "def guardar_datos_json(ciudades):\n",
    "    with open(\"datos_ciudades.json\", \"w\", encoding=\"utf-8\") as geojson_file:\n",
    "        json.dump(ciudades, geojson_file, ensure_ascii=False, indent=4)\n",
    "\n",
    "def main():\n",
    "    url = \"https://www.archdaily.cl/cl/1003731/estas-son-las-ciudades-mas-pobladas-de-america-latina-en-2023\"\n",
    "\n",
    "    response = requests.get(url)\n",
    "    html_content = response.text\n",
    "    soup = BeautifulSoup(html_content, 'html.parser')\n",
    "\n",
    "    ciudades = extraer_datos_ciudades(soup)\n",
    "    guardar_datos_json(ciudades)\n",
    "\n",
    "if _name_ == \"_main_\":\n",
    "    main()"
   ]
  },
  {
   "cell_type": "code",
   "execution_count": 5,
   "id": "0cddd2ff",
   "metadata": {},
   "outputs": [],
   "source": []
  },
  {
   "cell_type": "code",
   "execution_count": null,
   "id": "9c221a92",
   "metadata": {},
   "outputs": [],
   "source": []
  }
 ],
 "metadata": {
  "kernelspec": {
   "display_name": "Python 3 (ipykernel)",
   "language": "python",
   "name": "python3"
  },
  "language_info": {
   "codemirror_mode": {
    "name": "ipython",
    "version": 3
   },
   "file_extension": ".py",
   "mimetype": "text/x-python",
   "name": "python",
   "nbconvert_exporter": "python",
   "pygments_lexer": "ipython3",
   "version": "3.11.3"
  }
 },
 "nbformat": 4,
 "nbformat_minor": 5
}
