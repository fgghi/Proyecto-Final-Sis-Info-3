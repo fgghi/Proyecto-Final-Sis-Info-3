{
 "cells": [
  {
   "cell_type": "code",
   "execution_count": 54,
   "id": "bd37f925-9934-4d59-a6b6-08f95cee7d9b",
   "metadata": {},
   "outputs": [
    {
     "name": "stdout",
     "output_type": "stream",
     "text": [
      "Requirement already satisfied: requests in c:\\users\\comad\\anaconda3\\lib\\site-packages (2.31.0)\n",
      "Requirement already satisfied: beautifulsoup4 in c:\\users\\comad\\anaconda3\\lib\\site-packages (4.12.2)\n",
      "Requirement already satisfied: charset-normalizer<4,>=2 in c:\\users\\comad\\anaconda3\\lib\\site-packages (from requests) (3.3.2)\n",
      "Requirement already satisfied: idna<4,>=2.5 in c:\\users\\comad\\anaconda3\\lib\\site-packages (from requests) (3.6)\n",
      "Requirement already satisfied: urllib3<3,>=1.21.1 in c:\\users\\comad\\anaconda3\\lib\\site-packages (from requests) (1.26.18)\n",
      "Requirement already satisfied: certifi>=2017.4.17 in c:\\users\\comad\\anaconda3\\lib\\site-packages (from requests) (2023.11.17)\n",
      "Requirement already satisfied: soupsieve>1.2 in c:\\users\\comad\\anaconda3\\lib\\site-packages (from beautifulsoup4) (2.5)\n",
      "Note: you may need to restart the kernel to use updated packages.\n"
     ]
    }
   ],
   "source": [
    "pip install requests beautifulsoup4"
   ]
  },
  {
   "cell_type": "code",
   "execution_count": 1,
   "id": "731500d5",
   "metadata": {},
   "outputs": [
    {
     "name": "stdout",
     "output_type": "stream",
     "text": [
      "[\n",
      "    {\n",
      "        \"Nombre\": \"Sao Paulo\",\n",
      "        \"País\": \"Brasil\",\n",
      "        \"Población 2023\": \"\"\n",
      "    },\n",
      "    {\n",
      "        \"Nombre\": \"Ciudad de México\",\n",
      "        \"País\": \"México\",\n",
      "        \"Población 2023\": \"\"\n",
      "    },\n",
      "    {\n",
      "        \"Nombre\": \"Buenos Aires\",\n",
      "        \"País\": \"Argentina\",\n",
      "        \"Población 2023\": \"\"\n",
      "    },\n",
      "    {\n",
      "        \"Nombre\": \"Río de Janeiro\",\n",
      "        \"País\": \"Brasil\",\n",
      "        \"Población 2023\": \"\"\n",
      "    },\n",
      "    {\n",
      "        \"Nombre\": \"Bogotá\",\n",
      "        \"País\": \"Colombia\",\n",
      "        \"Población 2023\": \"\"\n",
      "    },\n",
      "    {\n",
      "        \"Nombre\": \"Lima\",\n",
      "        \"País\": \"Perú\",\n",
      "        \"Población 2023\": \"\"\n",
      "    },\n",
      "    {\n",
      "        \"Nombre\": \"Santiago\",\n",
      "        \"País\": \"Chile\",\n",
      "        \"Población 2023\": \"\"\n",
      "    },\n",
      "    {\n",
      "        \"Nombre\": \"Belo Horizonte\",\n",
      "        \"País\": \"Brasil\",\n",
      "        \"Población 2023\": \"\"\n",
      "    },\n",
      "    {\n",
      "        \"Nombre\": \"Guadalajara\",\n",
      "        \"País\": \"México\",\n",
      "        \"Población 2023\": \"\"\n",
      "    },\n",
      "    {\n",
      "        \"Nombre\": \"Monterrey\",\n",
      "        \"País\": \"México\",\n",
      "        \"Población 2023\": \"\"\n",
      "    }\n",
      "]\n"
     ]
    }
   ],
   "source": [
    "import requests\n",
    "from bs4 import BeautifulSoup\n",
    "import json\n",
    "import re\n",
    "import requests\n",
    "\n",
    "# URL PRINCIPAL DE CIUDADES\n",
    "url = \"https://www.archdaily.cl/cl/1003731/estas-son-las-ciudades-mas-pobladas-de-america-latina-en-2023\"\n",
    "\n",
    "response = requests.get(url)\n",
    "html_content = response.text\n",
    "soup = BeautifulSoup(html_content, 'html.parser')\n",
    "\n",
    "ciudades = []\n",
    "\n",
    "for ciudad_element in soup.find_all('h3'):\n",
    "    # BUSCAR CIUDAD\n",
    "    nombre_ciudad_match = re.search(r'<a.*?>(.*?)<\\/a>', str(ciudad_element))\n",
    "    nombre_ciudad = nombre_ciudad_match.group(1) if nombre_ciudad_match else \"No encontrado\"\n",
    "\n",
    "    # BUSCAR PAIS\n",
    "    pais_match = re.search(r'<a.*?>(.*?)<\\/a>,\\s(.*?)\\s\\(', str(ciudad_element))\n",
    "    pais = pais_match.group(2) if pais_match else \"No encontrado\"\n",
    "\n",
    "    # BUSCAR POBLACION DEL 2023\n",
    "    poblacion_element = ciudad_element.find_next('p', string=re.compile('Población 2023'))\n",
    "    poblacion_2023 = \"\"\n",
    "    if poblacion_element:\n",
    "        poblacion_text = poblacion_element.text\n",
    "        poblacion_2023_match = re.search(r'Población 2023:\\s*([\\d,]+)', poblacion_text)\n",
    "        poblacion_2023 = poblacion_2023_match.group(1).replace(\",\", \"\") if poblacion_2023_match else \"No se encontro\"\n",
    "\n",
    "    if nombre_ciudad != \"No encontrado\" and pais != \"No encontrado\":\n",
    "        ciudad_data = {\n",
    "            \"Nombre\": nombre_ciudad,\n",
    "            \"País\": pais,\n",
    "            \"Población 2023\": poblacion_2023,\n",
    "        }\n",
    "        ciudades.append(ciudad_data)\n",
    "\n",
    "print(json.dumps(ciudades, ensure_ascii=False, indent=4))\n",
    "\n",
    "\n",
    "\n",
    "### QUE LEA EL .CSV mas cuando se tenga las longitudes y Latitudes de las ciudades con geocode, antes de guardar ###\n",
    "\n",
    "\n",
    "# Guardamos en un JSON\n",
    "with open(\"datos_ciudades.json\", \"w\", encoding=\"utf-8\") as json_file:\n",
    "    json.dump(ciudades, json_file, ensure_ascii=False, indent=4)\n"
   ]
  },
  {
   "cell_type": "code",
   "execution_count": null,
   "id": "f27ceed8-2840-4725-9f70-70fec3e56945",
   "metadata": {},
   "outputs": [],
   "source": []
  },
  {
   "cell_type": "code",
   "execution_count": 2,
   "id": "901b81fe-f658-42db-a540-0c0f36b334b1",
   "metadata": {},
   "outputs": [
    {
     "name": "stdout",
     "output_type": "stream",
     "text": [
      "Latitud: -23.5506507, Longitud: -46.6333824\n"
     ]
    }
   ],
   "source": [
    "import requests\n",
    "import pandas as pd\n",
    "\n",
    "# URL DE CIUDADES CON GEOCODE\n",
    "city1 = \"https://geocode.maps.co/search?q=Sao%20Paulo\"\n",
    "city2 = \"https://geocode.maps.co/search?q=Ciudad%20de%20M%C3%A9xico\"\n",
    "city3 = \"https://geocode.maps.co/search?q=Buenos%20Aires\"\n",
    "city4 = \"https://geocode.maps.co/search?q=R%C3%ADo%20de%20Janeiro\"\n",
    "city5 = \"https://geocode.maps.co/search?q=Bogot%C3%A1\"\n",
    "city6 = \"https://geocode.maps.co/search?q=Lima\"\n",
    "city7 = \"https://geocode.maps.co/search?q=Santiago\"\n",
    "city8 = \"https://geocode.maps.co/search?q=Belo%20Horizonte\"\n",
    "city9 = \"https://geocode.maps.co/search?q=Guadalajara\"\n",
    "city10 = \"https://geocode.maps.co/search?q=Monterrey\"\n",
    "\n",
    "url = 'https://geocode.maps.co/search?q=Sao%20Paulo'\n",
    "response = requests.get(url)\n",
    "\n",
    "if response.status_code == 200:\n",
    "    data = response.json()\n",
    "    \n",
    "    sao_paulo_data = next((item for item in data if 'São Paulo' in item.get('display_name', '') and 'Brazil' in item.get('display_name', '')), None)\n",
    "\n",
    "    # Dudoso, verificar con google map o algo\n",
    "    if sao_paulo_data:\n",
    "        print(f\"Latitud: {sao_paulo_data['lat']}, Longitud: {sao_paulo_data['lon']}\")\n",
    "    else:\n",
    "        print(\"No se encontraron datos para São Paulo, Brasil.\")\n"
   ]
  },
  {
   "cell_type": "code",
   "execution_count": null,
   "id": "b067fa74-d26c-486e-9dd7-f2fdbb03af9d",
   "metadata": {},
   "outputs": [],
   "source": []
  }
 ],
 "metadata": {
  "kernelspec": {
   "display_name": "Python 3 (ipykernel)",
   "language": "python",
   "name": "python3"
  },
  "language_info": {
   "codemirror_mode": {
    "name": "ipython",
    "version": 3
   },
   "file_extension": ".py",
   "mimetype": "text/x-python",
   "name": "python",
   "nbconvert_exporter": "python",
   "pygments_lexer": "ipython3",
   "version": "3.11.3"
  }
 },
 "nbformat": 4,
 "nbformat_minor": 5
}
